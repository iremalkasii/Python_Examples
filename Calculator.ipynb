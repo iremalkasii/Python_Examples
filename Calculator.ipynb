{
  "cells": [
    {
      "cell_type": "markdown",
      "metadata": {
        "id": "view-in-github",
        "colab_type": "text"
      },
      "source": [
        "<a href=\"https://colab.research.google.com/github/iremalkasii/Python_Examples/blob/main/Calculator.ipynb\" target=\"_parent\"><img src=\"https://colab.research.google.com/assets/colab-badge.svg\" alt=\"Open In Colab\"/></a>"
      ]
    },
    {
      "cell_type": "code",
      "execution_count": null,
      "metadata": {
        "colab": {
          "base_uri": "https://localhost:8080/"
        },
        "id": "CUvIPq8jrlR_",
        "outputId": "14eea587-43d9-4a01-9b6e-c711d294db81"
      },
      "outputs": [
        {
          "name": "stdout",
          "output_type": "stream",
          "text": [
            "Mounted at /content/drive\n"
          ]
        }
      ],
      "source": [
        "from google.colab import drive\n",
        "drive.mount('/content/drive')"
      ]
    },
    {
      "cell_type": "code",
      "execution_count": null,
      "metadata": {
        "colab": {
          "background_save": true,
          "base_uri": "https://localhost:8080/"
        },
        "id": "DYUq-itZrvfS",
        "outputId": "8128946f-e9e0-40a2-caec-1c936d4e80a7"
      },
      "outputs": [
        {
          "name": "stdout",
          "output_type": "stream",
          "text": [
            "Lütfen şu işlemlerden birini seçiniz: + - * /\n"
          ]
        }
      ],
      "source": [
        "def calculate(a,b,islem):\n",
        "  if islem not in \"+ - * /\":\n",
        "    return \"Lütfen şu işlemlerden birini seçiniz: + - * /\"\n",
        "  if islem== \"+\":\n",
        "    return(str(a)+\" + \"+str(b) +\" = \" + str(a+b) )\n",
        "  if islem==\"-\":\n",
        "    return(str(a)+\" - \"+str(b) +\" = \" + str(a-b) )\n",
        "  if islem==\"*\":\n",
        "    return(str(a)+\" * \"+str(b) +\" = \" + str(a*b) )\n",
        "  if islem==\"/\":\n",
        "    return(str(a)+\" / \"+str(b) +\" = \" + str(a/b) )\n",
        "\n",
        "while True:\n",
        "  try:\n",
        "    a=int(input(\"ilk sayıyı giriniz:\"))\n",
        "    b=int(input(\"ikinci sayıyı giriniz:\"))\n",
        "    islem=input(\"yapılacak islemi giriniz: + - * / \")\n",
        "    print(calculate(a,b,islem))\n",
        "  except:\n",
        "    print(\"Lütfen sayıları düzgün giriniz.\")\n",
        "   \n",
        "  "
      ]
    },
    {
      "cell_type": "code",
      "execution_count": null,
      "metadata": {
        "id": "qFMp-vWpvSmm"
      },
      "outputs": [],
      "source": [
        ""
      ]
    }
  ],
  "metadata": {
    "colab": {
      "collapsed_sections": [],
      "name": "Calculator.ipynb",
      "provenance": [],
      "authorship_tag": "ABX9TyOUPwftPqmBa8w0fP/EIxLV",
      "include_colab_link": true
    },
    "kernelspec": {
      "display_name": "Python 3",
      "name": "python3"
    },
    "language_info": {
      "name": "python"
    }
  },
  "nbformat": 4,
  "nbformat_minor": 0
}